{
 "cells": [
  {
   "cell_type": "code",
   "execution_count": 2,
   "id": "7c76a55b-ad1b-4878-a9aa-3d5eecf7c016",
   "metadata": {},
   "outputs": [
    {
     "name": "stdout",
     "output_type": "stream",
     "text": [
      "Skupno so prodali  42 predmetov.\n",
      "Najvisja dosezena cena je 266\n",
      "Skupna cena prodanih predmetov je 4736\n"
     ]
    }
   ],
   "source": [
    "skupno = 0\n",
    "predmet = 0\n",
    "najvisja = 0\n",
    "najvec = 0\n",
    "for call in open('drazba-dolga.txt'):\n",
    "    cena = int(call)\n",
    "    if cena > 0:\n",
    "        stava = cena\n",
    "        if stava > najvisja:\n",
    "            najvisja = stava \n",
    "            if najvisja > najvec:\n",
    "                najvec = najvisja\n",
    "    else:\n",
    "        predmet += 1\n",
    "        skupno = skupno + najvisja\n",
    "        najvisja= 0\n",
    "\n",
    "print('Skupno so prodali ', predmet, 'predmetov.')\n",
    "print('Najvisja dosezena cena je', najvec)\n",
    "print('Skupna cena prodanih predmetov je', skupno)"
   ]
  },
  {
   "cell_type": "code",
   "execution_count": null,
   "id": "06f20e28-ca16-4eb2-99fd-6f2b8989990f",
   "metadata": {},
   "outputs": [],
   "source": []
  }
 ],
 "metadata": {
  "kernelspec": {
   "display_name": "Python 3 (ipykernel)",
   "language": "python",
   "name": "python3"
  },
  "language_info": {
   "codemirror_mode": {
    "name": "ipython",
    "version": 3
   },
   "file_extension": ".py",
   "mimetype": "text/x-python",
   "name": "python",
   "nbconvert_exporter": "python",
   "pygments_lexer": "ipython3",
   "version": "3.11.0"
  }
 },
 "nbformat": 4,
 "nbformat_minor": 5
}
