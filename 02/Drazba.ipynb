{
 "cells": [
  {
   "cell_type": "code",
   "execution_count": 40,
   "id": "c8533635-405e-4d33-b124-228b4f7c9a1a",
   "metadata": {},
   "outputs": [
    {
     "name": "stdout",
     "output_type": "stream",
     "text": [
      "Skupno so prodali  5 predmetov.\n",
      "Najvisja dosezena cena je 40\n",
      "Skupna cena prodanih predmetov je 143\n"
     ]
    }
   ],
   "source": [
    "skupno = 0\n",
    "predmet = 0\n",
    "najvisja = 0\n",
    "najvec = 0\n",
    "for call in open('drazba.txt'):\n",
    "    cena = int(call)\n",
    "    if cena > 0:\n",
    "        stava = cena\n",
    "        if stava > najvisja:\n",
    "            najvisja = stava \n",
    "            if najvisja > najvec:\n",
    "                najvec = najvisja\n",
    "    else:\n",
    "        predmet += 1\n",
    "        skupno = skupno + najvisja\n",
    "        najvisja= 0\n",
    "\n",
    "print('Skupno so prodali ', predmet, 'predmetov.')\n",
    "print('Najvisja dosezena cena je', najvec)\n",
    "print('Skupna cena prodanih predmetov je', skupno)"
   ]
  },
  {
   "cell_type": "code",
   "execution_count": 1,
   "id": "222e0f45-322e-4d4f-8b8c-f2c5be1f43f4",
   "metadata": {},
   "outputs": [
    {
     "name": "stdout",
     "output_type": "stream",
     "text": [
      "Skupno so prodali  42 predmetov.\n",
      "Najvisja dosezena cena je 266\n",
      "Skupna cena prodanih predmetov je 4736\n"
     ]
    }
   ],
   "source": [
    "skupno = 0\n",
    "predmet = 0\n",
    "najvisja = 0\n",
    "najvec = 0\n",
    "for call in open('drazba-dolga.txt'):\n",
    "    cena = int(call)\n",
    "    if cena > 0:\n",
    "        stava = cena\n",
    "        if stava > najvisja:\n",
    "            najvisja = stava \n",
    "            if najvisja > najvec:\n",
    "                najvec = najvisja\n",
    "    else:\n",
    "        predmet += 1\n",
    "        skupno = skupno + najvisja\n",
    "        najvisja= 0\n",
    "\n",
    "print('Skupno so prodali ', predmet, 'predmetov.')\n",
    "print('Najvisja dosezena cena je', najvec)\n",
    "print('Skupna cena prodanih predmetov je', skupno)"
   ]
  },
  {
   "cell_type": "code",
   "execution_count": null,
   "id": "fa25ef00-815e-4a26-ac70-acec5043ac99",
   "metadata": {},
   "outputs": [],
   "source": []
  }
 ],
 "metadata": {
  "kernelspec": {
   "display_name": "Python 3 (ipykernel)",
   "language": "python",
   "name": "python3"
  },
  "language_info": {
   "codemirror_mode": {
    "name": "ipython",
    "version": 3
   },
   "file_extension": ".py",
   "mimetype": "text/x-python",
   "name": "python",
   "nbconvert_exporter": "python",
   "pygments_lexer": "ipython3",
   "version": "3.11.0"
  }
 },
 "nbformat": 4,
 "nbformat_minor": 5
}
