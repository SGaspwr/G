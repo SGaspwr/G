{
 "cells": [
  {
   "cell_type": "code",
   "execution_count": 11,
   "id": "23aa8f66-4006-4af7-8e2a-84bead92b7c3",
   "metadata": {},
   "outputs": [
    {
     "name": "stdout",
     "output_type": "stream",
     "text": [
      "441\n"
     ]
    }
   ],
   "source": [
    "predmeti = []\n",
    "cene = []\n",
    "ceni = 0\n",
    "for vrstica in open('zapisnik.txt', encoding = 'UTF 8'):\n",
    "    predmet, oseba, cena = vrstica.split(',')\n",
    "    predmeti.append(predmet)\n",
    "    cene.append(int(cena))\n",
    "for a, b, c in zip(predmeti, predmeti[1:], cene):\n",
    "    if b != a:\n",
    "        ceni += c\n",
    "ceni += cene[-1]\n",
    "print(ceni)    "
   ]
  },
  {
   "cell_type": "code",
   "execution_count": null,
   "id": "e03730f9-d4b9-409c-ba26-03eefea0330b",
   "metadata": {},
   "outputs": [],
   "source": []
  }
 ],
 "metadata": {
  "kernelspec": {
   "display_name": "Python 3 (ipykernel)",
   "language": "python",
   "name": "python3"
  },
  "language_info": {
   "codemirror_mode": {
    "name": "ipython",
    "version": 3
   },
   "file_extension": ".py",
   "mimetype": "text/x-python",
   "name": "python",
   "nbconvert_exporter": "python",
   "pygments_lexer": "ipython3",
   "version": "3.11.0"
  }
 },
 "nbformat": 4,
 "nbformat_minor": 5
}
