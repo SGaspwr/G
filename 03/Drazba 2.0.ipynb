{
 "cells": [
  {
   "cell_type": "code",
   "execution_count": 1,
   "id": "9d0c1ad1-f5b3-4ff8-a18b-0273913ff112",
   "metadata": {},
   "outputs": [
    {
     "name": "stdout",
     "output_type": "stream",
     "text": [
      "Najdrazji predmet je kip - za 107 ga je kupil Dani\n",
      "\n",
      "slika - 45\n",
      "pozlačen dežnik - 29\n",
      "Meldrumove vaze - 78\n",
      "skodelice - 83\n",
      "kip - 107\n",
      "čajnik - 15\n",
      "srebrn jedilni servis - 63\n",
      "perzijska preproga - 21\n",
      "\n",
      "slika - 6\n",
      "pozlačen dežnik - 1\n",
      "Meldrumove vaze - 12\n",
      "skodelice - 12\n",
      "kip - 29\n",
      "čajnik - 1\n",
      "srebrn jedilni servis - 14\n",
      "perzijska preproga - 2\n",
      "\n",
      "Najvec ponudb je bilo za: kip\n"
     ]
    }
   ],
   "source": [
    "stave = {}\n",
    "osebe = {}\n",
    "cene = {}\n",
    "najcene = 0\n",
    "stava = 0\n",
    "\n",
    "for vrstica in open('zapisnik-Copt.txt', encoding= 'UTF-8'): \n",
    "    predmet, oseba, cena = vrstica.split(\",\")\n",
    "    stave.setdefault(predmet, 0)\n",
    "    osebe.setdefault(predmet, 0)\n",
    "    cene.setdefault(predmet, 0)\n",
    "    stave[predmet] += 1\n",
    "    osebe[predmet] = oseba\n",
    "    cene[predmet] = int(cena)\n",
    "    for predmet, cena in cene.items():\n",
    "        if cena > najcene:\n",
    "            najcene = cena\n",
    "            najpredmet = predmet\n",
    "            kupec123 = oseba       \n",
    "    \n",
    "print('Najdrazji predmet je', najpredmet, '- za', najcene, 'ga je kupil', kupec123)\n",
    "print()\n",
    "for predmet in cene:\n",
    "    print(predmet, '-', cene[predmet])\n",
    "print()\n",
    "for predmet in stave:\n",
    "    print(predmet, '-', stave[predmet])\n",
    "print()\n",
    "max_value = max(stave, key=stave.get)\n",
    "print('Najvec ponudb je bilo za:', max_value)"
   ]
  },
  {
   "cell_type": "code",
   "execution_count": 2,
   "id": "032328ae-93b7-453f-867a-161bc93b38df",
   "metadata": {},
   "outputs": [
    {
     "name": "stdout",
     "output_type": "stream",
     "text": [
      "Najdrazji predmet je papir - za 54 ga je kupil Anton Aškerc\n",
      "\n",
      "pisalni stroj - 49\n",
      "svinčnik - 48\n",
      "radirka - 52\n",
      "papir - 54\n",
      "diktafon - 47\n",
      "slovar slovenskega knjižnega jezika - 33\n",
      "\n",
      "pisalni stroj - 10\n",
      "svinčnik - 6\n",
      "radirka - 10\n",
      "papir - 4\n",
      "diktafon - 1\n",
      "slovar slovenskega knjižnega jezika - 4\n",
      "\n",
      "Najvec ponudb je bilo za: pisalni stroj\n"
     ]
    }
   ],
   "source": [
    "stave = {}\n",
    "osebe = {}\n",
    "cene = {}\n",
    "najcene = 0\n",
    "stava = 0\n",
    "\n",
    "for vrstica in open('zapisnik-dan2.txt', encoding= 'UTF-8'): \n",
    "    predmet, oseba, cena = vrstica.split(\",\")\n",
    "    stave.setdefault(predmet, 0)\n",
    "    osebe.setdefault(predmet, 0)\n",
    "    cene.setdefault(predmet, 0)\n",
    "    stave[predmet] += 1\n",
    "    osebe[predmet] = oseba\n",
    "    cene[predmet] = int(cena)\n",
    "    for predmet, cena in cene.items():\n",
    "        if cena > najcene:\n",
    "            najcene = cena\n",
    "            najpredmet = predmet\n",
    "            kupec123 = oseba       \n",
    "    \n",
    "print('Najdrazji predmet je', najpredmet, '- za', najcene, 'ga je kupil', kupec123)\n",
    "print()\n",
    "for predmet in cene:\n",
    "    print(predmet, '-', cene[predmet])\n",
    "print()\n",
    "for predmet in stave:\n",
    "    print(predmet, '-', stave[predmet])\n",
    "print()\n",
    "max_value = max(stave, key=stave.get)\n",
    "print('Najvec ponudb je bilo za:', max_value)"
   ]
  },
  {
   "cell_type": "code",
   "execution_count": null,
   "id": "9c19a490-810c-4f9d-a3b6-6ce7a472497d",
   "metadata": {},
   "outputs": [],
   "source": []
  }
 ],
 "metadata": {
  "kernelspec": {
   "display_name": "Python 3 (ipykernel)",
   "language": "python",
   "name": "python3"
  },
  "language_info": {
   "codemirror_mode": {
    "name": "ipython",
    "version": 3
   },
   "file_extension": ".py",
   "mimetype": "text/x-python",
   "name": "python",
   "nbconvert_exporter": "python",
   "pygments_lexer": "ipython3",
   "version": "3.11.0"
  }
 },
 "nbformat": 4,
 "nbformat_minor": 5
}
